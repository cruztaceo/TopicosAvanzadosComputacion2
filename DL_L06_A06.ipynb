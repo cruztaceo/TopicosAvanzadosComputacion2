{
 "cells": [
  {
   "cell_type": "markdown",
   "metadata": {
    "colab_type": "text",
    "id": "MfqDGcc_PMF7"
   },
   "source": [
    "#Tópicos Avanzados de Computación II\n",
    "##Dr. Carlos Villaseñor\n",
    "### Lección 5 -  Entrenando Redes Neuronales Profundas parte I\n",
    "\n",
    "\n",
    "\n",
    "\n"
   ]
  },
  {
   "cell_type": "code",
   "execution_count": 3,
   "metadata": {
    "colab": {},
    "colab_type": "code",
    "id": "FeA-AZylPh6B"
   },
   "outputs": [],
   "source": [
    "import numpy as np\n",
    "import pandas as pd\n",
    "import tensorflow as tf\n",
    "from tensorflow import keras\n",
    "import keras_tuner as kt\n",
    "from sklearn.model_selection import train_test_split\n",
    "from sklearn.preprocessing import StandardScaler\n",
    "import datetime"
   ]
  },
  {
   "cell_type": "code",
   "execution_count": 4,
   "metadata": {
    "colab": {
     "base_uri": "https://localhost:8080/",
     "height": 280
    },
    "colab_type": "code",
    "id": "tf_qoZDHQi7c",
    "outputId": "a3786621-57cc-4b78-edf0-a0e4bdc29229"
   },
   "outputs": [
    {
     "name": "stdout",
     "output_type": "stream",
     "text": [
      "     Clump  UnifSize  UnifShape  MargAdh  SingEpiSize  BareNuc  BlandChrom  \\\n",
      "0        5         1          1        1            2        1           3   \n",
      "1        5         4          4        5            7       10           3   \n",
      "2        3         1          1        1            2        2           3   \n",
      "3        6         8          8        1            3        4           3   \n",
      "4        4         1          1        3            2        1           3   \n",
      "..     ...       ...        ...      ...          ...      ...         ...   \n",
      "678      3         1          1        1            3        2           1   \n",
      "679      2         1          1        1            2        1           1   \n",
      "680      5        10         10        3            7        3           8   \n",
      "681      4         8          6        4            3        4          10   \n",
      "682      4         8          8        5            4        5          10   \n",
      "\n",
      "     NormNucl  Mit  Class  \n",
      "0           1    1      1  \n",
      "1           2    1      1  \n",
      "2           1    1      1  \n",
      "3           7    1      1  \n",
      "4           1    1      1  \n",
      "..        ...  ...    ...  \n",
      "678         1    1      1  \n",
      "679         1    1      1  \n",
      "680        10    2      0  \n",
      "681         6    1      0  \n",
      "682         4    1      0  \n",
      "\n",
      "[683 rows x 10 columns]\n"
     ]
    }
   ],
   "source": [
    "raw_dataset = pd.read_csv('./DataSets/cancer.csv')\n",
    "\n",
    "dataset = raw_dataset.copy()\n",
    "print(dataset)"
   ]
  },
  {
   "cell_type": "code",
   "execution_count": 5,
   "metadata": {
    "colab": {
     "base_uri": "https://localhost:8080/",
     "height": 186
    },
    "colab_type": "code",
    "id": "CiX2FI4gZtTt",
    "outputId": "9a3a363f-d0d6-40a9-b179-6660f30ad580"
   },
   "outputs": [
    {
     "data": {
      "text/plain": [
       "Clump          0\n",
       "UnifSize       0\n",
       "UnifShape      0\n",
       "MargAdh        0\n",
       "SingEpiSize    0\n",
       "BareNuc        0\n",
       "BlandChrom     0\n",
       "NormNucl       0\n",
       "Mit            0\n",
       "Class          0\n",
       "dtype: int64"
      ]
     },
     "execution_count": 5,
     "metadata": {},
     "output_type": "execute_result"
    }
   ],
   "source": [
    "dataset.isna().sum()"
   ]
  },
  {
   "cell_type": "code",
   "execution_count": 6,
   "metadata": {
    "colab": {},
    "colab_type": "code",
    "id": "BCk5LeOJTHy4"
   },
   "outputs": [],
   "source": [
    "dataset = dataset.dropna()"
   ]
  },
  {
   "cell_type": "code",
   "execution_count": 7,
   "metadata": {
    "colab": {
     "base_uri": "https://localhost:8080/",
     "height": 206
    },
    "colab_type": "code",
    "id": "Q3f9ZiROTPZ8",
    "outputId": "8d6eb86c-0bfd-4dea-bc3c-b52d0e8f0c01"
   },
   "outputs": [
    {
     "data": {
      "text/html": [
       "<div>\n",
       "<style scoped>\n",
       "    .dataframe tbody tr th:only-of-type {\n",
       "        vertical-align: middle;\n",
       "    }\n",
       "\n",
       "    .dataframe tbody tr th {\n",
       "        vertical-align: top;\n",
       "    }\n",
       "\n",
       "    .dataframe thead th {\n",
       "        text-align: right;\n",
       "    }\n",
       "</style>\n",
       "<table border=\"1\" class=\"dataframe\">\n",
       "  <thead>\n",
       "    <tr style=\"text-align: right;\">\n",
       "      <th></th>\n",
       "      <th>Clump</th>\n",
       "      <th>UnifSize</th>\n",
       "      <th>UnifShape</th>\n",
       "      <th>MargAdh</th>\n",
       "      <th>SingEpiSize</th>\n",
       "      <th>BareNuc</th>\n",
       "      <th>BlandChrom</th>\n",
       "      <th>NormNucl</th>\n",
       "      <th>Mit</th>\n",
       "      <th>Class</th>\n",
       "    </tr>\n",
       "  </thead>\n",
       "  <tbody>\n",
       "    <tr>\n",
       "      <th>678</th>\n",
       "      <td>3</td>\n",
       "      <td>1</td>\n",
       "      <td>1</td>\n",
       "      <td>1</td>\n",
       "      <td>3</td>\n",
       "      <td>2</td>\n",
       "      <td>1</td>\n",
       "      <td>1</td>\n",
       "      <td>1</td>\n",
       "      <td>1</td>\n",
       "    </tr>\n",
       "    <tr>\n",
       "      <th>679</th>\n",
       "      <td>2</td>\n",
       "      <td>1</td>\n",
       "      <td>1</td>\n",
       "      <td>1</td>\n",
       "      <td>2</td>\n",
       "      <td>1</td>\n",
       "      <td>1</td>\n",
       "      <td>1</td>\n",
       "      <td>1</td>\n",
       "      <td>1</td>\n",
       "    </tr>\n",
       "    <tr>\n",
       "      <th>680</th>\n",
       "      <td>5</td>\n",
       "      <td>10</td>\n",
       "      <td>10</td>\n",
       "      <td>3</td>\n",
       "      <td>7</td>\n",
       "      <td>3</td>\n",
       "      <td>8</td>\n",
       "      <td>10</td>\n",
       "      <td>2</td>\n",
       "      <td>0</td>\n",
       "    </tr>\n",
       "    <tr>\n",
       "      <th>681</th>\n",
       "      <td>4</td>\n",
       "      <td>8</td>\n",
       "      <td>6</td>\n",
       "      <td>4</td>\n",
       "      <td>3</td>\n",
       "      <td>4</td>\n",
       "      <td>10</td>\n",
       "      <td>6</td>\n",
       "      <td>1</td>\n",
       "      <td>0</td>\n",
       "    </tr>\n",
       "    <tr>\n",
       "      <th>682</th>\n",
       "      <td>4</td>\n",
       "      <td>8</td>\n",
       "      <td>8</td>\n",
       "      <td>5</td>\n",
       "      <td>4</td>\n",
       "      <td>5</td>\n",
       "      <td>10</td>\n",
       "      <td>4</td>\n",
       "      <td>1</td>\n",
       "      <td>0</td>\n",
       "    </tr>\n",
       "  </tbody>\n",
       "</table>\n",
       "</div>"
      ],
      "text/plain": [
       "     Clump  UnifSize  UnifShape  MargAdh  SingEpiSize  BareNuc  BlandChrom  \\\n",
       "678      3         1          1        1            3        2           1   \n",
       "679      2         1          1        1            2        1           1   \n",
       "680      5        10         10        3            7        3           8   \n",
       "681      4         8          6        4            3        4          10   \n",
       "682      4         8          8        5            4        5          10   \n",
       "\n",
       "     NormNucl  Mit  Class  \n",
       "678         1    1      1  \n",
       "679         1    1      1  \n",
       "680        10    2      0  \n",
       "681         6    1      0  \n",
       "682         4    1      0  "
      ]
     },
     "execution_count": 7,
     "metadata": {},
     "output_type": "execute_result"
    }
   ],
   "source": [
    "dataset.tail()"
   ]
  },
  {
   "cell_type": "code",
   "execution_count": 8,
   "metadata": {
    "colab": {
     "base_uri": "https://localhost:8080/",
     "height": 55
    },
    "colab_type": "code",
    "id": "XgoYR82VTeox",
    "outputId": "e372822c-93c4-4ed4-ee6b-a76c3e650953"
   },
   "outputs": [
    {
     "name": "stdout",
     "output_type": "stream",
     "text": [
      "(683, 9)\n",
      "(683, 1)\n"
     ]
    }
   ],
   "source": [
    "x = np.asanyarray(dataset.drop(columns=['Class']))\n",
    "y = np.asanyarray(dataset[['Class']])\n",
    "x = StandardScaler().fit_transform(x)\n",
    "print(x.shape)\n",
    "print(y.shape)"
   ]
  },
  {
   "cell_type": "code",
   "execution_count": 9,
   "metadata": {
    "colab": {},
    "colab_type": "code",
    "id": "I45OAV4_UYWm"
   },
   "outputs": [],
   "source": [
    "xtrain, xtest, ytrain, ytest = train_test_split(x, y, test_size=0.2, random_state=0)"
   ]
  },
  {
   "cell_type": "markdown",
   "metadata": {},
   "source": [
    "Ahora vamos a crear una función que nos regrese una red neuronal, al igual que la práctica anterior vamos a crear una red densa, pero vamos a agregar unos parámetros que serán intercambiados por el algoritmo de búsqueda de hiperparámetros."
   ]
  },
  {
   "cell_type": "code",
   "execution_count": 10,
   "metadata": {
    "pycharm": {
     "name": "#%%\n"
    }
   },
   "outputs": [],
   "source": [
    "def model_builder(hp):\n",
    "\n",
    "  model = keras.Sequential()\n",
    "\n",
    "  # Create Hyperparameters Space\n",
    "  hp_activation = hp.Choice('dense_activation',\n",
    "                       values=['relu', 'tanh', 'sigmoid'])\n",
    "  hp_units = hp.Int('units', min_value = 32, max_value = 512, step = 32)\n",
    "\n",
    "  # Neural Layer\n",
    "  model.add(keras.layers.Dense(units = hp_units,\n",
    "                               activation = hp_activation,\n",
    "                               input_shape=[x.shape[1]]))\n",
    "\n",
    "  # Output layer\n",
    "  model.add(keras.layers.Dense(1, activation='sigmoid'))\n",
    "\n",
    "  # Create Hyperparameter Space\n",
    "  hp_learning_rate = hp.Float('learning_rate', min_value=1e-5, max_value=1e-2,\n",
    "                      sampling='LOG',  default=1e-3)\n",
    "\n",
    "  # Compile model\n",
    "  model.compile(loss='binary_crossentropy',\n",
    "                optimizer=keras.optimizers.Adam(learning_rate = hp_learning_rate),\n",
    "                metrics=['accuracy'])\n",
    "  return  model"
   ]
  },
  {
   "cell_type": "markdown",
   "metadata": {},
   "source": [
    "Ahora vamos a crear nuestro objeto tuner (ajustador), el cual se encargará de crear un modelo de red neuronal con ciertos hiperparámetros y la entrenará. Corra solo uno de los siguientes tres bloques de código"
   ]
  },
  {
   "cell_type": "code",
   "execution_count": 16,
   "metadata": {
    "pycharm": {
     "name": "#%%\n"
    }
   },
   "outputs": [],
   "source": [
    "tuner = kt.RandomSearch(model_builder,\n",
    "                        objective='val_accuracy',\n",
    "                        max_trials=20,\n",
    "                        directory='Results',\n",
    "                        project_name='Random')"
   ]
  },
  {
   "cell_type": "code",
   "execution_count": null,
   "metadata": {
    "pycharm": {
     "name": "#%%\n"
    }
   },
   "outputs": [],
   "source": [
    "tuner = kt.BayesianOptimization(model_builder,\n",
    "                                objective='val_accuracy',\n",
    "                                max_trials=20,\n",
    "                                directory='Results',\n",
    "                                project_name='Bayesian')"
   ]
  },
  {
   "cell_type": "code",
   "execution_count": 11,
   "metadata": {
    "pycharm": {
     "name": "#%%\n"
    }
   },
   "outputs": [
    {
     "name": "stdout",
     "output_type": "stream",
     "text": [
      "INFO:tensorflow:Reloading Oracle from existing project Results\\HyperBand\\oracle.json\n",
      "INFO:tensorflow:Reloading Tuner from Results\\HyperBand\\tuner0.json\n"
     ]
    }
   ],
   "source": [
    "tuner = kt.Hyperband(model_builder,\n",
    "                     objective='val_accuracy',\n",
    "                     max_epochs=20,\n",
    "                     directory='Results',\n",
    "                     project_name='HyperBand')"
   ]
  },
  {
   "cell_type": "markdown",
   "metadata": {},
   "source": [
    "Vamos a crear el siguiente Callback, para borra al final de entrenar un modelo"
   ]
  },
  {
   "cell_type": "code",
   "execution_count": 12,
   "metadata": {
    "pycharm": {
     "name": "#%%\n"
    }
   },
   "outputs": [],
   "source": [
    "import IPython\n",
    "class ClearTrainingOutput(tf.keras.callbacks.Callback):\n",
    "  def on_train_end(*args, **kwargs):\n",
    "    IPython.display.clear_output(wait = True)"
   ]
  },
  {
   "cell_type": "markdown",
   "metadata": {},
   "source": [
    "Vamos a correr las pruebas"
   ]
  },
  {
   "cell_type": "code",
   "execution_count": 13,
   "metadata": {
    "pycharm": {
     "name": "#%%\n"
    }
   },
   "outputs": [
    {
     "name": "stdout",
     "output_type": "stream",
     "text": [
      "INFO:tensorflow:Oracle triggered exit\n",
      "\n",
      "The hyperparameter search is complete. The optimal number of units in the first densely-connected\n",
      "layer is 416 and the optimal learning rate for the optimizer\n",
      "is 0.008452433545678683 and dense activation is relu\n",
      "\n"
     ]
    }
   ],
   "source": [
    "tuner.search(xtrain, ytrain, epochs=20, validation_split=0.15,\n",
    "             callbacks = [ClearTrainingOutput()])\n",
    "\n",
    "# Get the optimal hyperparameters\n",
    "best_hps = tuner.get_best_hyperparameters(num_trials = 1)[0]\n",
    "\n",
    "print(f\"\"\"\n",
    "The hyperparameter search is complete. The optimal number of units in the first densely-connected\n",
    "layer is {best_hps.get('units')} and the optimal learning rate for the optimizer\n",
    "is {best_hps.get('learning_rate')} and dense activation is {best_hps.get('dense_activation')}\n",
    "\"\"\")"
   ]
  },
  {
   "cell_type": "markdown",
   "metadata": {},
   "source": [
    "Finalmente vamos a recrear el modelo que consiguió el mejor desempeño"
   ]
  },
  {
   "cell_type": "code",
   "execution_count": 14,
   "metadata": {
    "colab": {
     "base_uri": "https://localhost:8080/",
     "height": 1000
    },
    "colab_type": "code",
    "id": "ngXppdN0ZgWb",
    "outputId": "d6b582a7-cd80-4bc5-c03e-8c71778ba821"
   },
   "outputs": [
    {
     "name": "stdout",
     "output_type": "stream",
     "text": [
      "Epoch 1/50\n",
      "18/18 [==============================] - 1s 22ms/step - loss: 0.1545 - accuracy: 0.9414 - val_loss: 0.0935 - val_accuracy: 0.9562\n",
      "Epoch 2/50\n",
      "18/18 [==============================] - 0s 8ms/step - loss: 0.0873 - accuracy: 0.9762 - val_loss: 0.0727 - val_accuracy: 0.9562\n",
      "Epoch 3/50\n",
      "18/18 [==============================] - 0s 7ms/step - loss: 0.0699 - accuracy: 0.9762 - val_loss: 0.0784 - val_accuracy: 0.9708\n",
      "Epoch 4/50\n",
      "18/18 [==============================] - 0s 7ms/step - loss: 0.0656 - accuracy: 0.9762 - val_loss: 0.0700 - val_accuracy: 0.9635\n",
      "Epoch 5/50\n",
      "18/18 [==============================] - 0s 7ms/step - loss: 0.0600 - accuracy: 0.9799 - val_loss: 0.0649 - val_accuracy: 0.9781\n",
      "Epoch 6/50\n",
      "18/18 [==============================] - 0s 7ms/step - loss: 0.0633 - accuracy: 0.9744 - val_loss: 0.0506 - val_accuracy: 0.9781\n",
      "Epoch 7/50\n",
      "18/18 [==============================] - 0s 7ms/step - loss: 0.0622 - accuracy: 0.9762 - val_loss: 0.0520 - val_accuracy: 0.9781\n",
      "Epoch 8/50\n",
      "18/18 [==============================] - 0s 7ms/step - loss: 0.0540 - accuracy: 0.9817 - val_loss: 0.0559 - val_accuracy: 0.9781\n",
      "Epoch 9/50\n",
      "18/18 [==============================] - 0s 7ms/step - loss: 0.0662 - accuracy: 0.9835 - val_loss: 0.0560 - val_accuracy: 0.9781\n",
      "Epoch 10/50\n",
      "18/18 [==============================] - 0s 7ms/step - loss: 0.0549 - accuracy: 0.9872 - val_loss: 0.0513 - val_accuracy: 0.9781\n",
      "Epoch 11/50\n",
      "18/18 [==============================] - 0s 7ms/step - loss: 0.0458 - accuracy: 0.9853 - val_loss: 0.0553 - val_accuracy: 0.9708\n",
      "Epoch 12/50\n",
      "18/18 [==============================] - 0s 7ms/step - loss: 0.0405 - accuracy: 0.9890 - val_loss: 0.0530 - val_accuracy: 0.9781\n",
      "Epoch 13/50\n",
      "18/18 [==============================] - 0s 7ms/step - loss: 0.0367 - accuracy: 0.9908 - val_loss: 0.0541 - val_accuracy: 0.9708\n",
      "Epoch 14/50\n",
      "18/18 [==============================] - 0s 7ms/step - loss: 0.0460 - accuracy: 0.9780 - val_loss: 0.0560 - val_accuracy: 0.9781\n",
      "Epoch 15/50\n",
      "18/18 [==============================] - 0s 7ms/step - loss: 0.0534 - accuracy: 0.9799 - val_loss: 0.0758 - val_accuracy: 0.9708\n",
      "Epoch 16/50\n",
      "18/18 [==============================] - 0s 7ms/step - loss: 0.0601 - accuracy: 0.9780 - val_loss: 0.0628 - val_accuracy: 0.9708\n",
      "Epoch 17/50\n",
      "18/18 [==============================] - 0s 7ms/step - loss: 0.0354 - accuracy: 0.9853 - val_loss: 0.0533 - val_accuracy: 0.9708\n",
      "Epoch 18/50\n",
      "18/18 [==============================] - 0s 7ms/step - loss: 0.0255 - accuracy: 0.9890 - val_loss: 0.0645 - val_accuracy: 0.9708\n",
      "Epoch 19/50\n",
      "18/18 [==============================] - 0s 7ms/step - loss: 0.0263 - accuracy: 0.9908 - val_loss: 0.0670 - val_accuracy: 0.9635\n",
      "Epoch 20/50\n",
      "18/18 [==============================] - 0s 7ms/step - loss: 0.0243 - accuracy: 0.9945 - val_loss: 0.0667 - val_accuracy: 0.9635\n",
      "Epoch 21/50\n",
      "18/18 [==============================] - 0s 7ms/step - loss: 0.0219 - accuracy: 0.9945 - val_loss: 0.0714 - val_accuracy: 0.9635\n",
      "Epoch 22/50\n",
      "18/18 [==============================] - 0s 7ms/step - loss: 0.0157 - accuracy: 0.9982 - val_loss: 0.0700 - val_accuracy: 0.9635\n",
      "Epoch 23/50\n",
      "18/18 [==============================] - 0s 7ms/step - loss: 0.0150 - accuracy: 0.9945 - val_loss: 0.0692 - val_accuracy: 0.9708\n",
      "Epoch 24/50\n",
      "18/18 [==============================] - 0s 7ms/step - loss: 0.0143 - accuracy: 0.9945 - val_loss: 0.0769 - val_accuracy: 0.9708\n",
      "Epoch 25/50\n",
      "18/18 [==============================] - 0s 7ms/step - loss: 0.0132 - accuracy: 0.9982 - val_loss: 0.0753 - val_accuracy: 0.9635\n",
      "Epoch 26/50\n",
      "18/18 [==============================] - 0s 7ms/step - loss: 0.0094 - accuracy: 0.9982 - val_loss: 0.0791 - val_accuracy: 0.9708\n",
      "Epoch 27/50\n",
      "18/18 [==============================] - 0s 7ms/step - loss: 0.0105 - accuracy: 1.0000 - val_loss: 0.0846 - val_accuracy: 0.9635\n",
      "Epoch 28/50\n",
      "18/18 [==============================] - 0s 7ms/step - loss: 0.0091 - accuracy: 0.9982 - val_loss: 0.0811 - val_accuracy: 0.9635\n",
      "Epoch 29/50\n",
      "18/18 [==============================] - 0s 7ms/step - loss: 0.0071 - accuracy: 1.0000 - val_loss: 0.0849 - val_accuracy: 0.9708\n",
      "Epoch 30/50\n",
      "18/18 [==============================] - 0s 7ms/step - loss: 0.0061 - accuracy: 1.0000 - val_loss: 0.0897 - val_accuracy: 0.9635\n",
      "Epoch 31/50\n",
      "18/18 [==============================] - 0s 7ms/step - loss: 0.0075 - accuracy: 0.9963 - val_loss: 0.0862 - val_accuracy: 0.9708\n",
      "Epoch 32/50\n",
      "18/18 [==============================] - 0s 7ms/step - loss: 0.0121 - accuracy: 0.9963 - val_loss: 0.0904 - val_accuracy: 0.9708\n",
      "Epoch 33/50\n",
      "18/18 [==============================] - 0s 7ms/step - loss: 0.0095 - accuracy: 0.9982 - val_loss: 0.0895 - val_accuracy: 0.9708\n",
      "Epoch 34/50\n",
      "18/18 [==============================] - 0s 7ms/step - loss: 0.0143 - accuracy: 0.9927 - val_loss: 0.0830 - val_accuracy: 0.9708\n",
      "Epoch 35/50\n",
      "18/18 [==============================] - 0s 7ms/step - loss: 0.0101 - accuracy: 0.9982 - val_loss: 0.0847 - val_accuracy: 0.9708\n",
      "Epoch 36/50\n",
      "18/18 [==============================] - 0s 7ms/step - loss: 0.0110 - accuracy: 0.9963 - val_loss: 0.0906 - val_accuracy: 0.9708\n",
      "Epoch 37/50\n",
      "18/18 [==============================] - 0s 7ms/step - loss: 0.0076 - accuracy: 1.0000 - val_loss: 0.0889 - val_accuracy: 0.9708\n",
      "Epoch 38/50\n",
      "18/18 [==============================] - 0s 7ms/step - loss: 0.0068 - accuracy: 0.9982 - val_loss: 0.0923 - val_accuracy: 0.9708\n",
      "Epoch 39/50\n",
      "18/18 [==============================] - 0s 7ms/step - loss: 0.0057 - accuracy: 1.0000 - val_loss: 0.0964 - val_accuracy: 0.9708\n",
      "Epoch 40/50\n",
      "18/18 [==============================] - 0s 7ms/step - loss: 0.0052 - accuracy: 0.9982 - val_loss: 0.1005 - val_accuracy: 0.9708\n",
      "Epoch 41/50\n",
      "18/18 [==============================] - 0s 7ms/step - loss: 0.0043 - accuracy: 1.0000 - val_loss: 0.1012 - val_accuracy: 0.9708\n",
      "Epoch 42/50\n",
      "18/18 [==============================] - 0s 7ms/step - loss: 0.0035 - accuracy: 1.0000 - val_loss: 0.1033 - val_accuracy: 0.9708\n",
      "Epoch 43/50\n",
      "18/18 [==============================] - 0s 7ms/step - loss: 0.0036 - accuracy: 1.0000 - val_loss: 0.1073 - val_accuracy: 0.9708\n",
      "Epoch 44/50\n",
      "18/18 [==============================] - 0s 9ms/step - loss: 0.0030 - accuracy: 1.0000 - val_loss: 0.1095 - val_accuracy: 0.9708\n",
      "Epoch 45/50\n",
      "18/18 [==============================] - 0s 7ms/step - loss: 0.0028 - accuracy: 1.0000 - val_loss: 0.1122 - val_accuracy: 0.9708\n",
      "Epoch 46/50\n",
      "18/18 [==============================] - 0s 7ms/step - loss: 0.0026 - accuracy: 1.0000 - val_loss: 0.1134 - val_accuracy: 0.9708\n",
      "Epoch 47/50\n",
      "18/18 [==============================] - 0s 7ms/step - loss: 0.0023 - accuracy: 1.0000 - val_loss: 0.1153 - val_accuracy: 0.9708\n",
      "Epoch 48/50\n",
      "18/18 [==============================] - 0s 6ms/step - loss: 0.0021 - accuracy: 1.0000 - val_loss: 0.1163 - val_accuracy: 0.9708\n",
      "Epoch 49/50\n",
      "18/18 [==============================] - 0s 7ms/step - loss: 0.0019 - accuracy: 1.0000 - val_loss: 0.1186 - val_accuracy: 0.9708\n",
      "Epoch 50/50\n",
      "18/18 [==============================] - 0s 7ms/step - loss: 0.0018 - accuracy: 1.0000 - val_loss: 0.1222 - val_accuracy: 0.9708\n"
     ]
    }
   ],
   "source": [
    "log_dir = \"DL_L06_A06/logs/fit/\" + datetime.datetime.now().strftime(\"%Y%m%d-%H%M%S\")\n",
    "tensorboard_callback = tf.keras.callbacks.TensorBoard(log_dir=log_dir, histogram_freq=1)\n",
    "\n",
    "# Build the model with the optimal hyperparameters and train it on the data\n",
    "model = tuner.hypermodel.build(best_hps)\n",
    "history = model.fit(xtrain, ytrain, epochs = 50, validation_data = (xtest, ytest), verbose=1, callbacks=[tensorboard_callback])"
   ]
  },
  {
   "cell_type": "code",
   "execution_count": 15,
   "metadata": {
    "colab": {
     "base_uri": "https://localhost:8080/",
     "height": 36
    },
    "colab_type": "code",
    "id": "OTz-vUK0kMP8",
    "outputId": "3b960ed0-2de2-48af-8e79-2e90f7e9f1eb"
   },
   "outputs": [
    {
     "name": "stdout",
     "output_type": "stream",
     "text": [
      "5/5 [==============================] - 0s 2ms/step - loss: 0.1222 - accuracy: 0.9708\n"
     ]
    }
   ],
   "source": [
    "score = model.evaluate(xtest, ytest)"
   ]
  },
  {
   "cell_type": "code",
   "execution_count": 16,
   "metadata": {
    "pycharm": {
     "name": "#%%\n"
    }
   },
   "outputs": [
    {
     "name": "stdout",
     "output_type": "stream",
     "text": [
      "Epoch 1/50\n",
      "18/18 [==============================] - 1s 17ms/step - loss: 0.1570 - accuracy: 0.9231 - val_loss: 0.0950 - val_accuracy: 0.9635\n",
      "Epoch 2/50\n",
      "18/18 [==============================] - 0s 7ms/step - loss: 0.0945 - accuracy: 0.9744 - val_loss: 0.0704 - val_accuracy: 0.9635\n",
      "Epoch 3/50\n",
      "18/18 [==============================] - 0s 7ms/step - loss: 0.0688 - accuracy: 0.9744 - val_loss: 0.0658 - val_accuracy: 0.9781\n",
      "Epoch 4/50\n",
      "18/18 [==============================] - 0s 9ms/step - loss: 0.0664 - accuracy: 0.9780 - val_loss: 0.0616 - val_accuracy: 0.9708\n",
      "Epoch 5/50\n",
      "18/18 [==============================] - 0s 10ms/step - loss: 0.0605 - accuracy: 0.9780 - val_loss: 0.0622 - val_accuracy: 0.9708\n",
      "Epoch 6/50\n",
      "18/18 [==============================] - 0s 7ms/step - loss: 0.0575 - accuracy: 0.9799 - val_loss: 0.0595 - val_accuracy: 0.9708\n",
      "Epoch 7/50\n",
      "18/18 [==============================] - 0s 7ms/step - loss: 0.0670 - accuracy: 0.9780 - val_loss: 0.0470 - val_accuracy: 0.9854\n",
      "Epoch 8/50\n",
      "18/18 [==============================] - 0s 7ms/step - loss: 0.0644 - accuracy: 0.9762 - val_loss: 0.0466 - val_accuracy: 0.9781\n",
      "Epoch 9/50\n",
      "18/18 [==============================] - 0s 7ms/step - loss: 0.0510 - accuracy: 0.9799 - val_loss: 0.0497 - val_accuracy: 0.9854\n",
      "Epoch 10/50\n",
      "18/18 [==============================] - 0s 7ms/step - loss: 0.0463 - accuracy: 0.9817 - val_loss: 0.0532 - val_accuracy: 0.9781\n",
      "Epoch 11/50\n",
      "18/18 [==============================] - 0s 7ms/step - loss: 0.0415 - accuracy: 0.9890 - val_loss: 0.0553 - val_accuracy: 0.9708\n",
      "Epoch 12/50\n",
      "18/18 [==============================] - 0s 7ms/step - loss: 0.0366 - accuracy: 0.9872 - val_loss: 0.0546 - val_accuracy: 0.9781\n",
      "Epoch 13/50\n",
      "18/18 [==============================] - 0s 7ms/step - loss: 0.0346 - accuracy: 0.9908 - val_loss: 0.0567 - val_accuracy: 0.9708\n",
      "Epoch 14/50\n",
      "18/18 [==============================] - 0s 7ms/step - loss: 0.0323 - accuracy: 0.9908 - val_loss: 0.0588 - val_accuracy: 0.9708\n",
      "Epoch 15/50\n",
      "18/18 [==============================] - 0s 7ms/step - loss: 0.0291 - accuracy: 0.9872 - val_loss: 0.0755 - val_accuracy: 0.9635\n",
      "Epoch 16/50\n",
      "18/18 [==============================] - 0s 7ms/step - loss: 0.0292 - accuracy: 0.9890 - val_loss: 0.0682 - val_accuracy: 0.9635\n",
      "Epoch 17/50\n",
      "18/18 [==============================] - 0s 7ms/step - loss: 0.0297 - accuracy: 0.9908 - val_loss: 0.0641 - val_accuracy: 0.9708\n",
      "Epoch 18/50\n",
      "18/18 [==============================] - 0s 7ms/step - loss: 0.0197 - accuracy: 0.9963 - val_loss: 0.0736 - val_accuracy: 0.9708\n",
      "Epoch 19/50\n",
      "18/18 [==============================] - 0s 8ms/step - loss: 0.0173 - accuracy: 0.9945 - val_loss: 0.0716 - val_accuracy: 0.9708\n",
      "Epoch 20/50\n",
      "18/18 [==============================] - 0s 7ms/step - loss: 0.0160 - accuracy: 0.9963 - val_loss: 0.0773 - val_accuracy: 0.9708\n",
      "Epoch 21/50\n",
      "18/18 [==============================] - 0s 7ms/step - loss: 0.0137 - accuracy: 0.9963 - val_loss: 0.0801 - val_accuracy: 0.9708\n",
      "Epoch 22/50\n",
      "18/18 [==============================] - 0s 6ms/step - loss: 0.0103 - accuracy: 0.9982 - val_loss: 0.0841 - val_accuracy: 0.9708\n",
      "Epoch 23/50\n",
      "18/18 [==============================] - 0s 7ms/step - loss: 0.0097 - accuracy: 0.9982 - val_loss: 0.0877 - val_accuracy: 0.9708\n",
      "Epoch 24/50\n",
      "18/18 [==============================] - 0s 7ms/step - loss: 0.0093 - accuracy: 0.9982 - val_loss: 0.0898 - val_accuracy: 0.9708\n",
      "Epoch 25/50\n",
      "18/18 [==============================] - 0s 8ms/step - loss: 0.0087 - accuracy: 1.0000 - val_loss: 0.0916 - val_accuracy: 0.9708\n",
      "Epoch 26/50\n",
      "18/18 [==============================] - 0s 8ms/step - loss: 0.0073 - accuracy: 0.9982 - val_loss: 0.0925 - val_accuracy: 0.9708\n",
      "Epoch 27/50\n",
      "18/18 [==============================] - 0s 7ms/step - loss: 0.0056 - accuracy: 1.0000 - val_loss: 0.0966 - val_accuracy: 0.9708\n",
      "Epoch 28/50\n",
      "18/18 [==============================] - 0s 7ms/step - loss: 0.0050 - accuracy: 1.0000 - val_loss: 0.0976 - val_accuracy: 0.9708\n",
      "5/5 [==============================] - 0s 1ms/step - loss: 0.0976 - accuracy: 0.9708\n"
     ]
    }
   ],
   "source": [
    "log_dir = \"DL_L06_A06/logs/fit/\" + datetime.datetime.now().strftime(\"%Y%m%d-%H%M%S\")\n",
    "tensorboard_callback_es = tf.keras.callbacks.TensorBoard(log_dir=log_dir, histogram_freq=1) \n",
    "\n",
    "es = keras.callbacks.EarlyStopping(monitor='val_loss', mode='min', patience=20)\n",
    "\n",
    "# Build the model with the optimal hyperparameters and train it on the data\n",
    "model = tuner.hypermodel.build(best_hps)\n",
    "history = model.fit(xtrain, ytrain, epochs = 50, validation_data = (xtest, ytest), verbose=1, callbacks=[es, tensorboard_callback_es])\n",
    "\n",
    "score = model.evaluate(xtest, ytest)"
   ]
  },
  {
   "cell_type": "code",
   "execution_count": 17,
   "metadata": {
    "pycharm": {
     "name": "#%%\n"
    },
    "scrolled": true
   },
   "outputs": [
    {
     "data": {
      "text/html": [
       "\n",
       "      <iframe id=\"tensorboard-frame-280275a8dbe7e098\" width=\"100%\" height=\"800\" frameborder=\"0\">\n",
       "      </iframe>\n",
       "      <script>\n",
       "        (function() {\n",
       "          const frame = document.getElementById(\"tensorboard-frame-280275a8dbe7e098\");\n",
       "          const url = new URL(\"/\", window.location);\n",
       "          const port = 6006;\n",
       "          if (port) {\n",
       "            url.port = port;\n",
       "          }\n",
       "          frame.src = url;\n",
       "        })();\n",
       "      </script>\n",
       "    "
      ],
      "text/plain": [
       "<IPython.core.display.HTML object>"
      ]
     },
     "metadata": {},
     "output_type": "display_data"
    }
   ],
   "source": [
    "%load_ext tensorboard\n",
    "%tensorboard --logdir DL_L06_A06/logs/fit"
   ]
  }
 ],
 "metadata": {
  "accelerator": "GPU",
  "colab": {
   "collapsed_sections": [],
   "name": "DL_L05.ipynb",
   "provenance": []
  },
  "kernelspec": {
   "display_name": "Python 3 (ipykernel)",
   "language": "python",
   "name": "python3"
  },
  "language_info": {
   "codemirror_mode": {
    "name": "ipython",
    "version": 3
   },
   "file_extension": ".py",
   "mimetype": "text/x-python",
   "name": "python",
   "nbconvert_exporter": "python",
   "pygments_lexer": "ipython3",
   "version": "3.9.7"
  }
 },
 "nbformat": 4,
 "nbformat_minor": 1
}