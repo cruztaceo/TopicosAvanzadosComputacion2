{
 "nbformat": 4,
 "nbformat_minor": 0,
 "metadata": {
  "colab": {
   "name": "DL_L03.ipynb",
   "provenance": [],
   "collapsed_sections": []
  },
  "kernelspec": {
   "name": "python3",
   "display_name": "Python 3"
  }
 },
 "cells": [
  {
   "cell_type": "markdown",
   "metadata": {
    "id": "tzvK-r7-OArK",
    "colab_type": "text"
   },
   "source": [
    "#Tópicos Avanzados de Computación II\n",
    "##Dr. Carlos Villaseñor\n",
    "##Lección 3 - Redes neuronales de un capa"
   ]
  },
  {
   "cell_type": "markdown",
   "metadata": {
    "id": "FQFEkeMcOHx9",
    "colab_type": "text"
   },
   "source": [
    "A continuación la clase de la red neuronal de una capa (que se explicó en clase)"
   ]
  },
  {
   "cell_type": "code",
   "metadata": {
    "id": "n2aFyCrjN9AZ",
    "colab_type": "code",
    "colab": {}
   },
   "source": [
    "import numpy as np\n",
    "\n",
    "# Funciones de activación\n",
    "def linear(z, derivate=False):\n",
    "    if derivate:\n",
    "        da = np.ones(z.shape)\n",
    "        return z, da\n",
    "    else:\n",
    "        return z\n",
    "\n",
    "def sigmoid(z, derivate=False):\n",
    "    a = 1 / (1 + np.exp(-z))\n",
    "    if derivate:\n",
    "        da = a * (1 - a) \n",
    "        return a, da\n",
    "    return a\n",
    "\n",
    "def tanh(z, derivate=False):\n",
    "    a = np.tanh(z)\n",
    "    if derivate:\n",
    "        da = (1 + a) * (1 - a)\n",
    "        return a, da\n",
    "    return a\n",
    "\n",
    "def relu(z, derivate=False):\n",
    "    a = z * (z >= 0)\n",
    "    if derivate:\n",
    "        da = np.array(z >= 0, float) \n",
    "        return a, da\n",
    "    return a\n",
    "\n",
    "def softmax(z, derivate=False):\n",
    "    e = np.exp(z - np.max(z, axis=0))\n",
    "    a = e / np.sum(e, axis=0)\n",
    "    if derivate:\n",
    "        da = np.ones(z.shape, float)\n",
    "        return a, da\n",
    "    return a\n",
    "    \n",
    "\n",
    "class OLnetwork:\n",
    "    def __init__(self, n_input, n_output, act_func, learning_rate=0.1):\n",
    "        self.eta = learning_rate\n",
    "        self.w = 1 - 2 * np.random.rand(n_output, n_input)\n",
    "        self.b = 1 - 2 * np.random.rand(n_output, 1)\n",
    "        self.f = act_func\n",
    "        \n",
    "    def predict(self, X):\n",
    "        Z = self.w @ X + self.b\n",
    "        Yest = self.f(Z)\n",
    "        return Yest\n",
    "    \n",
    "    def fit(self, X, Y, epochs=50):\n",
    "        #Calcular número de muestras\n",
    "        p = X.shape[1]\n",
    "        \n",
    "        # Iterar por cada época\n",
    "        for _ in range(epochs):\n",
    "            # Iterar por cada muestra\n",
    "            for i in range(p):\n",
    "                \n",
    "                # Sacar muestra\n",
    "                x = X[:,i].reshape(-1, 1)\n",
    "                y = Y[:,i].reshape(-1, 1) \n",
    "                \n",
    "                # Propagar muestra\n",
    "                Z = self.w @ x + self.b\n",
    "                Yest, dy = self.f(Z, derivate=True)\n",
    "        \n",
    "                #Entrenar\n",
    "                lg = (y-Yest) * dy\n",
    "                self.w += self.eta * lg @ x.T\n",
    "                self.b += self.eta * lg"
   ],
   "execution_count": 1,
   "outputs": []
  },
  {
   "cell_type": "markdown",
   "metadata": {
    "id": "rD0DOfIkSC5n",
    "colab_type": "code",
    "colab": {},
    "pycharm": {
     "name": "#%% md\n"
    }
   },
   "source": [
    "Les dejo también está función para que puedan dibujar en su actividad"
   ]
  },
  {
   "cell_type": "code",
   "execution_count": 2,
   "outputs": [],
   "source": [
    "import matplotlib.pyplot as plt\n",
    "\n",
    "def plot_data(X, Y, net):\n",
    "    dot_c = ('r.', 'g.', 'b.', 'k.')\n",
    "    lin_c = ('r-', 'g-', 'b-', 'k-')\n",
    "    for i in range(X.shape[1]):\n",
    "        c = np.argmax(Y[:,i])\n",
    "        plt.plot(X[0,i], X[1,i], dot_c[c])\n",
    "    \n",
    "    for i in range(4):    \n",
    "        w1, w2, b = net.w[i,0], net.w[i,1], net.b[i]\n",
    "        plt.plot([-0, 1],[(-b/w2),(1/w2)*(-w1-b)], lin_c[i])   \n",
    "    \n",
    "    plt.xlim([0,1])\n",
    "    plt.ylim([0,1])\n",
    "\n",
    "def plot_data_softmax(X, Y, net):\n",
    "    dot_c = ('r.', 'g.', 'b.', 'k.')\n",
    "    lin_c = ('r-', 'g-', 'b-', 'k-')\n",
    "    for i in range(X.shape[1]):\n",
    "        c = np.argmax(Y[:,i])\n",
    "        plt.plot(X[0,i], X[1,i], dot_c[c])\n",
    "\n",
    "    for i in range(4):\n",
    "        w1, w2, b = net.w[i, 0], net.w[i, 1], net.b[i]\n",
    "        plt.plot([-0, 1],[(-b/w2),(1/w2)*(-w1-b)], lin_c[i])\n",
    "\n",
    "    plt.xlim([0,1])\n",
    "    plt.ylim([0,1])\n",
    "\n",
    "def MLP_binary_classification_2d(X, Y, net):\n",
    "    plt.figure()\n",
    "    for i in range(X.shape[1]):\n",
    "        if Y[0, i] == 0:\n",
    "            plt.plot(X[0, i], X[1, i], '.r')\n",
    "        else:\n",
    "            plt.plot(X[0, i], X[1, i], '.b')\n",
    "    xmin, ymin = np.min(X[0, :]) - 0.5, np.min(X[1, :]) - 0.5\n",
    "    xmax, ymax = np.max(X[0, :]) + 0.5, np.max(X[1, :]) + 0.5\n",
    "    xx, yy = np.meshgrid(np.linspace(xmin, xmax, 100),\n",
    "                         np.linspace(ymin, ymax, 100))\n",
    "    data = [xx.ravel(), yy.ravel()]\n",
    "    zz = net.predict(data)\n",
    "    zz = zz.reshape(xx.shape)\n",
    "    plt.contourf(xx, yy, zz, alpha=0.8,\n",
    "                 cmap=plt.cm.RdBu)\n",
    "    plt.xlim([xmin, xmax])\n",
    "    plt.ylim([ymin, ymax])\n",
    "    plt.grid()\n",
    "    plt.show()"
   ],
   "metadata": {
    "collapsed": false,
    "pycharm": {
     "name": "#%%\n"
    }
   }
  },
  {
   "cell_type": "markdown",
   "source": [
    "Cargamos los datos de entrada y estimados"
   ],
   "metadata": {
    "collapsed": false
   }
  },
  {
   "cell_type": "code",
   "execution_count": 3,
   "outputs": [
    {
     "name": "stdout",
     "output_type": "stream",
     "text": [
      "(2, 160)\n",
      "(4, 160)\n"
     ]
    }
   ],
   "source": [
    "import pandas as pd\n",
    "\n",
    "df = pd.read_csv('./DataSets/Dataset_A03.csv')\n",
    "X = np.asanyarray(df[['x1','x2']]).T\n",
    "Y = np.asanyarray(df.drop(columns=['x1', 'x2'])).T\n",
    "print(X.shape)\n",
    "print(Y.shape)"
   ],
   "metadata": {
    "collapsed": false,
    "pycharm": {
     "name": "#%%\n"
    }
   }
  },
  {
   "cell_type": "markdown",
   "source": [
    "Creamos la neurona de una sola capa, la entrenamos, la ejecutamos y mostramos gráfica resultante"
   ],
   "metadata": {
    "collapsed": false
   }
  },
  {
   "cell_type": "code",
   "execution_count": 4,
   "outputs": [
    {
     "data": {
      "text/plain": "<Figure size 432x288 with 1 Axes>",
      "image/png": "[encoded data removed]"
     },
     "metadata": {
      "needs_background": "light"
     },
     "output_type": "display_data"
    }
   ],
   "source": [
    "net = OLnetwork(X.shape[0], Y.shape[0], sigmoid, 0.1)\n",
    "\n",
    "net.fit(X, Y)\n",
    "\n",
    "net.predict(X)\n",
    "\n",
    "plot_data(X, Y, net)"
   ],
   "metadata": {
    "collapsed": false,
    "pycharm": {
     "name": "#%%\n"
    }
   }
  },
  {
   "cell_type": "markdown",
   "source": [],
   "metadata": {
    "collapsed": false
   }
  },
  {
   "cell_type": "markdown",
   "source": [
    "Probamos la función Softmax"
   ],
   "metadata": {
    "collapsed": false
   }
  },
  {
   "cell_type": "code",
   "execution_count": 5,
   "outputs": [
    {
     "ename": "ValueError",
     "evalue": "cannot reshape array of size 40000 into shape (100,100)",
     "output_type": "error",
     "traceback": [
      "\u001B[1;31m---------------------------------------------------------------------------\u001B[0m",
      "\u001B[1;31mValueError\u001B[0m                                Traceback (most recent call last)",
      "\u001B[1;32m~\\AppData\\Local\\Temp/ipykernel_20708/2159195763.py\u001B[0m in \u001B[0;36m<module>\u001B[1;34m\u001B[0m\n\u001B[0;32m      7\u001B[0m \u001B[0mplot_data_softmax\u001B[0m\u001B[1;33m(\u001B[0m\u001B[0mX\u001B[0m\u001B[1;33m,\u001B[0m \u001B[0mY\u001B[0m\u001B[1;33m,\u001B[0m \u001B[0mnetSoftmax\u001B[0m\u001B[1;33m)\u001B[0m\u001B[1;33m\u001B[0m\u001B[1;33m\u001B[0m\u001B[0m\n\u001B[0;32m      8\u001B[0m \u001B[1;33m\u001B[0m\u001B[0m\n\u001B[1;32m----> 9\u001B[1;33m \u001B[0mMLP_binary_classification_2d\u001B[0m\u001B[1;33m(\u001B[0m\u001B[0mX\u001B[0m\u001B[1;33m,\u001B[0m \u001B[0mY\u001B[0m\u001B[1;33m,\u001B[0m \u001B[0mnetSoftmax\u001B[0m\u001B[1;33m)\u001B[0m\u001B[1;33m\u001B[0m\u001B[1;33m\u001B[0m\u001B[0m\n\u001B[0m",
      "\u001B[1;32m~\\AppData\\Local\\Temp/ipykernel_20708/2686689169.py\u001B[0m in \u001B[0;36mMLP_binary_classification_2d\u001B[1;34m(X, Y, net)\u001B[0m\n\u001B[0;32m     42\u001B[0m     \u001B[0mdata\u001B[0m \u001B[1;33m=\u001B[0m \u001B[1;33m[\u001B[0m\u001B[0mxx\u001B[0m\u001B[1;33m.\u001B[0m\u001B[0mravel\u001B[0m\u001B[1;33m(\u001B[0m\u001B[1;33m)\u001B[0m\u001B[1;33m,\u001B[0m \u001B[0myy\u001B[0m\u001B[1;33m.\u001B[0m\u001B[0mravel\u001B[0m\u001B[1;33m(\u001B[0m\u001B[1;33m)\u001B[0m\u001B[1;33m]\u001B[0m\u001B[1;33m\u001B[0m\u001B[1;33m\u001B[0m\u001B[0m\n\u001B[0;32m     43\u001B[0m     \u001B[0mzz\u001B[0m \u001B[1;33m=\u001B[0m \u001B[0mnet\u001B[0m\u001B[1;33m.\u001B[0m\u001B[0mpredict\u001B[0m\u001B[1;33m(\u001B[0m\u001B[0mdata\u001B[0m\u001B[1;33m)\u001B[0m\u001B[1;33m\u001B[0m\u001B[1;33m\u001B[0m\u001B[0m\n\u001B[1;32m---> 44\u001B[1;33m     \u001B[0mzz\u001B[0m \u001B[1;33m=\u001B[0m \u001B[0mzz\u001B[0m\u001B[1;33m.\u001B[0m\u001B[0mreshape\u001B[0m\u001B[1;33m(\u001B[0m\u001B[0mxx\u001B[0m\u001B[1;33m.\u001B[0m\u001B[0mshape\u001B[0m\u001B[1;33m)\u001B[0m\u001B[1;33m\u001B[0m\u001B[1;33m\u001B[0m\u001B[0m\n\u001B[0m\u001B[0;32m     45\u001B[0m     plt.contourf(xx, yy, zz, alpha=0.8,\n\u001B[0;32m     46\u001B[0m                  cmap=plt.cm.RdBu)\n",
      "\u001B[1;31mValueError\u001B[0m: cannot reshape array of size 40000 into shape (100,100)"
     ]
    },
    {
     "data": {
      "text/plain": "<Figure size 432x288 with 1 Axes>",
      "image/png": "[encoded data removed]"
     },
     "metadata": {
      "needs_background": "light"
     },
     "output_type": "display_data"
    },
    {
     "data": {
      "text/plain": "<Figure size 432x288 with 1 Axes>",
      "image/png": "[encoded data removed]"
     },
     "metadata": {
      "needs_background": "light"
     },
     "output_type": "display_data"
    }
   ],
   "source": [
    "netSoftmax = OLnetwork(X.shape[0], Y.shape[0], softmax, 0.1)\n",
    "\n",
    "netSoftmax.fit(X, Y)\n",
    "\n",
    "netSoftmax.predict(X)\n",
    "\n",
    "plot_data_softmax(X, Y, netSoftmax)"
   ],
   "metadata": {
    "collapsed": false,
    "pycharm": {
     "name": "#%%\n"
    }
   }
  }
 ]
}