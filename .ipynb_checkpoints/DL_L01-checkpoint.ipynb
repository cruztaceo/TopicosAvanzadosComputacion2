{
 "cells": [
  {
   "cell_type": "markdown",
   "metadata": {
    "colab_type": "text",
    "id": "NyrN3A9os6_x"
   },
   "source": [
    "#Tópicos Avanzados de Computación II\n",
    "##Dr. Carlos Villaseñor\n",
    "##Lección 1 - Introducción a Redes Neuronales Artificiales\n",
    "### Programación del Perceptrón, aproximación de compuertas lógicas y clasificación de sobrepeso"
   ]
  },
  {
   "cell_type": "markdown",
   "metadata": {
    "colab_type": "text",
    "id": "G7IFh4oYvEMO"
   },
   "source": [
    "Importamos Numpy"
   ]
  },
  {
   "cell_type": "code",
   "execution_count": 1,
   "metadata": {
    "colab": {},
    "colab_type": "code",
    "id": "JtLg2tLAvG6R"
   },
   "outputs": [],
   "source": [
    "import numpy as np\n",
    "import matplotlib.pyplot as plt"
   ]
  },
  {
   "cell_type": "markdown",
   "metadata": {
    "colab_type": "text",
    "id": "Lci6Raq5usJq"
   },
   "source": [
    "Primeramente programamos nuestro perceptrón"
   ]
  },
  {
   "cell_type": "code",
   "execution_count": 2,
   "metadata": {
    "colab": {},
    "colab_type": "code",
    "id": "hGdLqKX1uFmx"
   },
   "outputs": [],
   "source": [
    "class Perceptron:\n",
    "\n",
    "  def __init__(self, n_inputs, learning_rate):\n",
    "    self.w = - 1 + 2 * np.random.rand(n_inputs)\n",
    "    self.b = - 1 + 2 * np.random.rand()\n",
    "    self.eta = learning_rate\n",
    "\n",
    "  def predict(self, X):\n",
    "    _, p = X.shape\n",
    "    y_est = np.zeros(p)\n",
    "    for i in range(p):\n",
    "      y_est[i] = np.dot(self.w, X[:,i])+self.b\n",
    "      if y_est[i] >= 0:\n",
    "        y_est[i]=1\n",
    "      else:\n",
    "        y_est[i]=0\n",
    "    return y_est\n",
    "\n",
    "  def fit(self, X, Y, epochs=50):\n",
    "    _, p = X.shape\n",
    "    for _ in range(epochs):\n",
    "      for i in range(p):\n",
    "        y_est = self.predict(X[:,i].reshape(-1,1))\n",
    "        self.w += self.eta * (Y[i]-y_est) * X[:,i]\n",
    "        self.b += self.eta * (Y[i]-y_est)\n",
    "\n",
    "def draw_2d_percep(model):\n",
    "  w1, w2, b = model.w[0], model.w[1], model.b \n",
    "  plt.plot([-2, 2],[(1/w2)*(-w1*(-2)-b),(1/w2)*(-w1*2-b)],'--k')"
   ]
  },
  {
   "cell_type": "markdown",
   "metadata": {
    "colab_type": "text",
    "id": "M0uA1DSm0NA5"
   },
   "source": [
    "Entrenamos el modelo con la tabla de una compuerta lógica"
   ]
  },
  {
   "cell_type": "code",
   "execution_count": 3,
   "metadata": {
    "colab": {
     "base_uri": "https://localhost:8080/",
     "height": 297
    },
    "colab_type": "code",
    "id": "AdwjqANjvp-d",
    "outputId": "7a198ecc-291e-41d1-a531-b9d0654610be"
   },
   "outputs": [
    {
     "data": {
      "image/png": "[encoded data removed]",
      "text/plain": [
       "<Figure size 432x288 with 1 Axes>"
      ]
     },
     "metadata": {
      "needs_background": "light"
     },
     "output_type": "display_data"
    }
   ],
   "source": [
    "# Instanciar el modelo\n",
    "model = Perceptron(2, 0.1)\n",
    "\n",
    "# Datos\n",
    "X = np.array([[0, 0, 1, 1],\n",
    "              [0, 1, 0, 1]])\n",
    "Y = np.array([0, 0, 0, 1])\n",
    "\n",
    "# Entrenar\n",
    "model.fit(X,Y)\n",
    "\n",
    "# Predicción\n",
    "model.predict(X)\n",
    "\n",
    "# Primero dibujemos los puntos\n",
    "_, p = X.shape\n",
    "for i in range(p):\n",
    "  if Y[i] == 0:\n",
    "    plt.plot(X[0,i],X[1,i], 'or')\n",
    "  else:\n",
    "    plt.plot(X[0,i],X[1,i], 'ob')\n",
    "\n",
    "plt.title('Perceptrón')\n",
    "plt.grid('on')\n",
    "plt.xlim([-2,2])\n",
    "plt.ylim([-2,2])\n",
    "plt.xlabel(r'$x_1$')\n",
    "plt.ylabel(r'$x_2$')\n",
    "\n",
    "draw_2d_percep(model)"
   ]
  }
 ],
 "metadata": {
  "colab": {
   "name": "L01.P01.ipynb",
   "provenance": []
  },
  "kernelspec": {
   "display_name": "Python 3 (ipykernel)",
   "language": "python",
   "name": "python3"
  },
  "language_info": {
   "codemirror_mode": {
    "name": "ipython",
    "version": 3
   },
   "file_extension": ".py",
   "mimetype": "text/x-python",
   "name": "python",
   "nbconvert_exporter": "python",
   "pygments_lexer": "ipython3",
   "version": "3.9.7"
  }
 },
 "nbformat": 4,
 "nbformat_minor": 1
}
