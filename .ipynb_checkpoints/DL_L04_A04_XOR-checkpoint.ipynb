{
 "cells": [
  {
   "cell_type": "markdown",
   "metadata": {
    "colab_type": "text",
    "id": "tzvK-r7-OArK"
   },
   "source": [
    "#Tópicos Avanzados de Computación II\n",
    "##Dr. Carlos Villaseñor\n",
    "##Lección 4 - Redes neuronales multicapa"
   ]
  },
  {
   "cell_type": "markdown",
   "metadata": {
    "colab_type": "text",
    "id": "FQFEkeMcOHx9"
   },
   "source": [
    "A continuación la clase de la red neuronal de una capa (que se explicó en clase)"
   ]
  },
  {
   "cell_type": "code",
   "execution_count": 1,
   "metadata": {
    "colab": {},
    "colab_type": "code",
    "id": "n2aFyCrjN9AZ"
   },
   "outputs": [],
   "source": [
    "\"\"\"\n",
    "Multilayer Perceptron\n",
    "Dr. Carlos Villaseñor\n",
    "\"\"\"\n",
    "\n",
    "# Packages\n",
    "import numpy as np\n",
    "\n",
    "def linear(z, derivative=False):\n",
    "    a = z\n",
    "    if derivative:\n",
    "        da = 1\n",
    "        return a, da\n",
    "    return a\n",
    "\n",
    "\n",
    "def sigmoid(z, derivative=False):\n",
    "    a = 1/(1+np.exp(-z))\n",
    "    if derivative:\n",
    "        da = a * (1 - a)\n",
    "        return a, da\n",
    "    return a\n",
    "\n",
    "\n",
    "def tanh(z, derivative=False):\n",
    "    a = np.tanh(z)\n",
    "    if derivative:\n",
    "        da = (1 - a) * (1 + a)\n",
    "        return a, da\n",
    "    return a\n",
    "\n",
    "\n",
    "def relu(z, derivative=False):\n",
    "    a = z * (z >= 0)\n",
    "    if derivative:\n",
    "        da = np.array(z >= 0, dtype=float)\n",
    "        return a, da\n",
    "    return a\n",
    "\n",
    "class MLP:\n",
    "\n",
    "    def __init__(self, layers_dims,\n",
    "                 hidden_activation=relu,\n",
    "                 output_activation=sigmoid,\n",
    "                 learning_rate=0.1):\n",
    "\n",
    "        # Instance Attributes\n",
    "        self.L = len(layers_dims) - 1\n",
    "        self.w = [None] * (self.L + 1)\n",
    "        self.b = [None] * (self.L + 1)\n",
    "        self.f = [None] * (self.L + 1)\n",
    "        self.layers = layers_dims\n",
    "        self.eta = learning_rate\n",
    "\n",
    "        # Initialize weights\n",
    "        for l in range(1, self.L + 1):\n",
    "            self.w[l] = -1 + 2 * np.random.rand(layers_dims[l], layers_dims[l-1])\n",
    "            self.b[l] = -1 + 2 * np.random.rand(layers_dims[l], 1)\n",
    "\n",
    "            if l == self.L:\n",
    "                self.f[l] = output_activation\n",
    "            else:\n",
    "                self.f[l] = hidden_activation\n",
    "\n",
    "\n",
    "    def predict(self, X):\n",
    "        a = np.asanyarray(X)\n",
    "        for l in range(1, self.L + 1):\n",
    "            z = np.dot(self.w[l], a) + self.b[l]\n",
    "            a = self.f[l](z)\n",
    "        return a\n",
    "\n",
    "    def fit(self, X, Y, epochs=100):\n",
    "\n",
    "        # Number of samples\n",
    "        P = X.shape[1]\n",
    "\n",
    "        #Gradient Descent\n",
    "        for _ in range(epochs):\n",
    "            for p in range(P):\n",
    "\n",
    "                # Initialize activations and their derivatives\n",
    "                a = [None] * (self.L + 1)\n",
    "                da = [None] * (self.L + 1)\n",
    "                lg = [None] * (self.L + 1)\n",
    "\n",
    "                # Propagation\n",
    "                a[0] = X[:, p].reshape(self.layers[0], 1)\n",
    "                for l in range(1, self.L + 1):\n",
    "                    z = np.dot(self.w[l], a[l-1]) + self.b[l]\n",
    "                    a[l], da[l] = self.f[l](z, derivative=True)\n",
    "\n",
    "                # Backpropagation\n",
    "                for l in range(self.L, 0, -1):\n",
    "                    # Calculate local gradient (lg)\n",
    "                    if l == self.L:\n",
    "                        lg[l] = (Y[:, p] - a[l]) * da[l]\n",
    "                    else:\n",
    "                        lg[l] = np.dot(self.w[l + 1].T, lg[l+1]) * da[l]\n",
    "\n",
    "                # Update parameters\n",
    "                for l in range(1, self.L + 1):\n",
    "                    self.w[l] += self.eta * np.dot(lg[l], a[l - 1].T)\n",
    "                    self.b[l] += self.eta * lg[l]"
   ]
  },
  {
   "cell_type": "markdown",
   "metadata": {
    "colab_type": "text",
    "id": "LtxT--GRRybP"
   },
   "source": [
    "Para su actividad necesitarán esta función para dibujar"
   ]
  },
  {
   "cell_type": "code",
   "execution_count": 2,
   "metadata": {
    "colab": {},
    "colab_type": "code",
    "id": "rD0DOfIkSC5n"
   },
   "outputs": [],
   "source": [
    "import matplotlib.pyplot as plt\n",
    "\n",
    "\n",
    "def MLP_binary_classification_2d(X, Y, net):\n",
    "    plt.figure()\n",
    "    for i in range(X.shape[1]):\n",
    "        if Y[0, i] == 0:\n",
    "            plt.plot(X[0, i], X[1, i], '.r')\n",
    "        else:\n",
    "            plt.plot(X[0, i], X[1, i], '.b')\n",
    "    xmin, ymin = np.min(X[0, :]) - 0.5, np.min(X[1, :]) - 0.5\n",
    "    xmax, ymax = np.max(X[0, :]) + 0.5, np.max(X[1, :]) + 0.5\n",
    "    xx, yy = np.meshgrid(np.linspace(xmin, xmax, 100),\n",
    "                         np.linspace(ymin, ymax, 100))\n",
    "    data = [xx.ravel(), yy.ravel()]\n",
    "    zz = net.predict(data)\n",
    "    zz = zz.reshape(xx.shape)\n",
    "    plt.contourf(xx, yy, zz, alpha=0.8,\n",
    "                 cmap=plt.cm.RdBu)\n",
    "    plt.xlim([xmin, xmax])\n",
    "    plt.ylim([ymin, ymax])\n",
    "    plt.grid()\n",
    "    plt.show()"
   ]
  },
  {
   "cell_type": "markdown",
   "metadata": {
    "colab_type": "text",
    "id": "eC66u3KCZMDv"
   },
   "source": [
    "Vamos a crear el dataset para el problema XOR"
   ]
  },
  {
   "cell_type": "code",
   "execution_count": 3,
   "metadata": {
    "colab": {},
    "colab_type": "code",
    "id": "lQtSoWC3ZRgo"
   },
   "outputs": [],
   "source": [
    "X = np.array([[0, 0, 1, 1],\n",
    "              [0, 1, 0, 1]])\n",
    "Y = np.array([[0, 1, 1, 0]])"
   ]
  },
  {
   "cell_type": "markdown",
   "metadata": {
    "colab_type": "text",
    "id": "LvEZ7LNjZSCG"
   },
   "source": [
    "Dibujemos primeramente que nos da la red neuronal sin entrenar"
   ]
  },
  {
   "cell_type": "code",
   "execution_count": 4,
   "metadata": {
    "colab": {
     "base_uri": "https://localhost:8080/",
     "height": 287
    },
    "colab_type": "code",
    "id": "NE_RkILXYkPm",
    "outputId": "6452d63d-e3ee-4fff-a331-8161b454ca1b"
   },
   "outputs": [
    {
     "name": "stdout",
     "output_type": "stream",
     "text": [
      "[[0.82702493 0.91804568 0.83333915 0.95296816]]\n"
     ]
    },
    {
     "data": {
      "image/png": "[encoded data removed]",
      "text/plain": [
       "<Figure size 432x288 with 1 Axes>"
      ]
     },
     "metadata": {
      "needs_background": "light"
     },
     "output_type": "display_data"
    }
   ],
   "source": [
    "net = MLP((2, 100, 1), learning_rate=0.2)\n",
    "print(net.predict(X))\n",
    "MLP_binary_classification_2d(X, Y, net)"
   ]
  },
  {
   "cell_type": "markdown",
   "metadata": {
    "colab_type": "text",
    "id": "WuoAYlaTZhV1"
   },
   "source": [
    "Ahora vamos a entrenar!!"
   ]
  },
  {
   "cell_type": "code",
   "execution_count": 5,
   "metadata": {
    "colab": {
     "base_uri": "https://localhost:8080/",
     "height": 287
    },
    "colab_type": "code",
    "id": "P5JVbnY3Zk-A",
    "outputId": "011cba8e-9656-4d7b-f6bf-7b46e79d0127"
   },
   "outputs": [
    {
     "name": "stdout",
     "output_type": "stream",
     "text": [
      "[[0.08315048 0.92248025 0.91816968 0.07260724]]\n"
     ]
    },
    {
     "data": {
      "image/png": "[encoded data removed]",
      "text/plain": [
       "<Figure size 432x288 with 1 Axes>"
      ]
     },
     "metadata": {
      "needs_background": "light"
     },
     "output_type": "display_data"
    }
   ],
   "source": [
    "net.fit(X, Y)\n",
    "print(net.predict(X))\n",
    "MLP_binary_classification_2d(X, Y, net)"
   ]
  }
 ],
 "metadata": {
  "colab": {
   "collapsed_sections": [],
   "name": "DL_L04.ipynb",
   "provenance": []
  },
  "kernelspec": {
   "display_name": "Python 3 (ipykernel)",
   "language": "python",
   "name": "python3"
  },
  "language_info": {
   "codemirror_mode": {
    "name": "ipython",
    "version": 3
   },
   "file_extension": ".py",
   "mimetype": "text/x-python",
   "name": "python",
   "nbconvert_exporter": "python",
   "pygments_lexer": "ipython3",
   "version": "3.9.7"
  }
 },
 "nbformat": 4,
 "nbformat_minor": 1
}
