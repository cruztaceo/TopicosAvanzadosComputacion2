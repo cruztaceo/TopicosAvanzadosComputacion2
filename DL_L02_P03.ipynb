{
 "nbformat": 4,
 "nbformat_minor": 0,
 "metadata": {
  "colab": {
   "name": "DL_L02_P03.ipynb",
   "provenance": [],
   "collapsed_sections": [],
   "authorship_tag": "ABX9TyNZUiblv1SId2qq3+7s0+uR",
   "include_colab_link": true
  },
  "kernelspec": {
   "name": "python3",
   "display_name": "Python 3"
  }
 },
 "cells": [
  {
   "cell_type": "markdown",
   "metadata": {
    "id": "view-in-github",
    "colab_type": "text"
   },
   "source": [
    "<a href=\"https://colab.research.google.com/github/Dr-Carlos-Villasenor/TopicosAvanzadosComputacion2/blob/master/DL_L02_P03.ipynb\" target=\"_parent\"><img src=\"https://colab.research.google.com/assets/colab-badge.svg\" alt=\"Open In Colab\"/></a>"
   ]
  },
  {
   "cell_type": "markdown",
   "metadata": {
    "id": "NyrN3A9os6_x"
   },
   "source": [
    "#Tópicos Avanzados de Computación II\n",
    "##Dr. Carlos Villaseñor\n",
    "##Lección 2 - Redes neuronales de una sola neurona\n",
    "### Programación de neurona lineal mini-batch"
   ]
  },
  {
   "cell_type": "markdown",
   "metadata": {
    "id": "O6aTMb5Qus37"
   },
   "source": [
    "Primeramente importemos unos paquetes importantes"
   ]
  },
  {
   "cell_type": "code",
   "metadata": {
    "id": "JtLg2tLAvG6R"
   },
   "source": [
    "import numpy as np\n",
    "import matplotlib.pyplot as plt"
   ],
   "execution_count": 1,
   "outputs": []
  },
  {
   "cell_type": "markdown",
   "metadata": {
    "id": "r-VXYzItuwPe"
   },
   "source": [
    "Definamos nuestra neurona sigmoidal para hacer regresión logística"
   ]
  },
  {
   "cell_type": "code",
   "metadata": {
    "id": "hGdLqKX1uFmx"
   },
   "source": [
    "class Linear_Neuron:\n",
    "\n",
    "    def __init__(self, n_inputs, learning_rate=0.1):\n",
    "        self.w = - 1 + 2 * np.random.rand(n_inputs)\n",
    "        self.b = - 1 + 2 * np.random.rand()\n",
    "        self.eta = learning_rate\n",
    "\n",
    "    def predict(self, X):\n",
    "        Y_est = np.dot(self.w, X) + self.b\n",
    "        return Y_est\n",
    "\n",
    "    def batcher(self, X, Y, size):\n",
    "        p = X.shape[1]\n",
    "        li, ui = 0, size\n",
    "        while True:\n",
    "            if li < p:\n",
    "                yield X[:, li:ui], Y[:, li:ui]\n",
    "                li, ui = li + size, ui + size\n",
    "            else:\n",
    "                return None\n",
    "    \n",
    "    def train(self, X, Y, epochs=100, batch_size=20):\n",
    "\n",
    "        for _ in range(epochs):\n",
    "            \n",
    "            minibatch = self.batcher(X,Y, batch_size)\n",
    "            \n",
    "            for mX, mY  in minibatch: \n",
    "                p = mX.shape[1]\n",
    "                Y_est = self.predict(mX)\n",
    "                self.w += (self.eta/p) * np.dot((mY - Y_est), mX.T).ravel()\n",
    "                self.b += (self.eta/p) * np.sum(mY - Y_est)\n"
   ],
   "execution_count": 2,
   "outputs": []
  },
  {
   "cell_type": "code",
   "source": [
    "p = 100\n",
    "x = -1 + 2 * np.random.rand(p).reshape(1,-1)\n",
    "y = -18 * x + 6 + 5 * np.random.randn(p)\n",
    "plt.plot(x,y,'.b')\n",
    "\n",
    "neuron = Linear_Neuron(1, 0.1)\n",
    "neuron.train(x, y, epochs=100, batch_size=50)\n",
    "\n",
    "xn = np.array([[-1, 1]])\n",
    "plt.plot(xn.ravel() ,neuron.predict(xn),'--r')"
   ],
   "metadata": {
    "colab": {
     "base_uri": "https://localhost:8080/",
     "height": 284
    },
    "id": "Kfaw7fLqme0T",
    "outputId": "75e3ede4-eade-41f7-b4fe-d0d3a0ac8c01"
   },
   "execution_count": 3,
   "outputs": [
    {
     "data": {
      "text/plain": "[<matplotlib.lines.Line2D at 0x2a42c27b4f0>]"
     },
     "execution_count": 3,
     "metadata": {},
     "output_type": "execute_result"
    },
    {
     "data": {
      "text/plain": "<Figure size 432x288 with 1 Axes>",
      "image/png": "[encoded data removed]"
     },
     "metadata": {
      "needs_background": "light"
     },
     "output_type": "display_data"
    }
   ]
  }
 ]
}