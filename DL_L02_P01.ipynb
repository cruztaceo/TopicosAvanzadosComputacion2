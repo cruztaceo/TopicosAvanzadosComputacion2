{
 "nbformat": 4,
 "nbformat_minor": 0,
 "metadata": {
  "colab": {
   "name": "DL_L02_P01.ipynb",
   "provenance": [],
   "collapsed_sections": [],
   "authorship_tag": "ABX9TyNdamhDutasqjDIw24mHYZR",
   "include_colab_link": true
  },
  "kernelspec": {
   "name": "python3",
   "display_name": "Python 3"
  }
 },
 "cells": [
  {
   "cell_type": "markdown",
   "metadata": {
    "id": "view-in-github",
    "colab_type": "text"
   },
   "source": [
    "<a href=\"https://colab.research.google.com/github/Dr-Carlos-Villasenor/TopicosAvanzadosComputacion2/blob/master/DL_L02_P01.ipynb\" target=\"_parent\"><img src=\"https://colab.research.google.com/assets/colab-badge.svg\" alt=\"Open In Colab\"/></a>"
   ]
  },
  {
   "cell_type": "markdown",
   "metadata": {
    "id": "NyrN3A9os6_x"
   },
   "source": [
    "#Tópicos Avanzados de Computación II\n",
    "##Dr. Carlos Villaseñor\n",
    "##Lección 2 - Redes neuronales de una sola neurona\n",
    "### Programación de neurona lineal"
   ]
  },
  {
   "cell_type": "markdown",
   "metadata": {
    "id": "O6aTMb5Qus37"
   },
   "source": [
    "Primeramente importemos unos paquetes importantes"
   ]
  },
  {
   "cell_type": "code",
   "metadata": {
    "id": "JtLg2tLAvG6R"
   },
   "source": [
    "import numpy as np\n",
    "import matplotlib.pyplot as plt"
   ],
   "execution_count": 1,
   "outputs": []
  },
  {
   "cell_type": "markdown",
   "metadata": {
    "id": "r-VXYzItuwPe"
   },
   "source": [
    "Definamos nuestra neurona sigmoidal para hacer regresión logística"
   ]
  },
  {
   "cell_type": "code",
   "metadata": {
    "id": "hGdLqKX1uFmx"
   },
   "source": [
    "class Linear_Neuron:\n",
    "\n",
    "    def __init__(self, n_inputs, learning_rate=0.1):\n",
    "        self.w = - 1 + 2 * np.random.rand(n_inputs)\n",
    "        self.b = - 1 + 2 * np.random.rand()\n",
    "        self.eta = learning_rate\n",
    "\n",
    "    def predict(self, X):\n",
    "        Y_est = np.dot(self.w, X) + self.b\n",
    "        return Y_est\n",
    "\n",
    "    def train(self, X, Y, epochs=50, solver='BGD'):\n",
    "        _, p = X.shape\n",
    "\n",
    "        if solver == 'SGD':  # Stochastic Gradient Descent\n",
    "            for _ in range(epochs):\n",
    "                for i in range(p):\n",
    "                    y_est = self.predict(X[:, i])\n",
    "                    self.w += self.eta * (Y[:, i] - y_est) * X[:, i]\n",
    "                    self.b += self.eta * (Y[:, i] - y_est)\n",
    "\n",
    "        elif solver == 'BGD':  # Batch Gradient Descent\n",
    "            for _ in range(epochs):\n",
    "                Y_est = self.predict(X)\n",
    "                self.w += (self.eta / p) * np.dot((Y - Y_est), X.T).ravel()\n",
    "                self.b += (self.eta / p) * np.sum(Y - Y_est)\n",
    "\n",
    "        else:  # Pseudo-inverse (Direct method)\n",
    "            X_hat = np.concatenate((np.ones((1, p)), X), axis=0)\n",
    "            w_hat = np.dot(Y.reshape(1, -1), np.linalg.pinv(X_hat))\n",
    "            self.b = w_hat[0, 0]\n",
    "            self.w = w_hat[0, 1:]\n"
   ],
   "execution_count": 2,
   "outputs": []
  },
  {
   "cell_type": "code",
   "source": [
    "# Ejemplo\n",
    "p = 100\n",
    "x = -1 + 2 * np.random.rand(p).reshape(1, -1)\n",
    "y = -18 * x + 6 + 3 * np.random.randn(p)\n",
    "plt.plot(x, y, '.b')\n",
    "\n",
    "neuron = Linear_Neuron(1, 0.1)\n",
    "neuron.train(x, y, solver='BGD', epochs=100)\n",
    "\n",
    "# Dibujar línea\n",
    "xn = np.array([[-1, 1]])\n",
    "plt.plot(xn.ravel(), neuron.predict(xn), '--r')"
   ],
   "metadata": {
    "colab": {
     "base_uri": "https://localhost:8080/",
     "height": 285
    },
    "id": "Kfaw7fLqme0T",
    "outputId": "a08671ec-6da9-4531-f7b8-ff6352b7f913",
    "pycharm": {
     "name": "#%%\n"
    }
   },
   "execution_count": 6,
   "outputs": [
    {
     "data": {
      "text/plain": "[<matplotlib.lines.Line2D at 0x284c453f130>]"
     },
     "execution_count": 6,
     "metadata": {},
     "output_type": "execute_result"
    },
    {
     "data": {
      "text/plain": "<Figure size 432x288 with 1 Axes>",
      "image/png": "[encoded data removed]"
     },
     "metadata": {
      "needs_background": "light"
     },
     "output_type": "display_data"
    }
   ]
  }
 ]
}